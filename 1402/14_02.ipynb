{
  "nbformat": 4,
  "nbformat_minor": 0,
  "metadata": {
    "colab": {
      "provenance": []
    },
    "kernelspec": {
      "name": "python3",
      "display_name": "Python 3"
    },
    "language_info": {
      "name": "python"
    }
  },
  "cells": [
    {
      "cell_type": "code",
      "execution_count": 4,
      "metadata": {
        "id": "UfgURFTpuF0y"
      },
      "outputs": [],
      "source": [
        "import numpy as np\n",
        "import pandas as pd\n",
        "import io"
      ]
    },
    {
      "cell_type": "code",
      "source": [
        "pasta = pd.read_excel('Pasta1.xlsx')"
      ],
      "metadata": {
        "id": "z2LeDsukucF4"
      },
      "execution_count": 5,
      "outputs": []
    },
    {
      "cell_type": "code",
      "source": [
        "print(pasta)"
      ],
      "metadata": {
        "colab": {
          "base_uri": "https://localhost:8080/"
        },
        "id": "YjittWoX1WBR",
        "outputId": "74b66c3b-52c1-4018-9ffb-ae82c795819c"
      },
      "execution_count": 6,
      "outputs": [
        {
          "output_type": "stream",
          "name": "stdout",
          "text": [
            "            a     b         c      Delta\n",
            "0    1.000000   2.0  1.000000   0.000000\n",
            "1    2.000000   4.0 -1.000000  24.000000\n",
            "2    5.000000   3.0  1.000000 -11.000000\n",
            "3    6.666667   4.0  0.333333   7.111111\n",
            "4    8.666667   4.5  0.333333   8.694444\n",
            "5   10.666667   5.0  0.333333  10.777778\n",
            "6   12.666667   5.5  0.333333  13.361111\n",
            "7   14.666667   6.0  0.333333  16.444444\n",
            "8   16.666667   6.5  0.333333  20.027778\n",
            "9   18.666667   7.0  0.333333  24.111111\n",
            "10  20.666667   7.5  0.333333  28.694444\n",
            "11  22.666667   8.0  0.333333  33.777778\n",
            "12  24.666667   8.5  0.333333  39.361111\n",
            "13  26.666667   9.0  0.333333  45.444444\n",
            "14  28.666667   9.5  0.333333  52.027778\n",
            "15  30.666667  10.0  0.333333  59.111111\n",
            "16  32.666667  10.5  0.333333  66.694444\n",
            "17  34.666667  11.0  0.333333  74.777778\n",
            "18  36.666667  11.5  0.333333  83.361111\n"
          ]
        }
      ]
    },
    {
      "cell_type": "code",
      "source": [
        "print(pasta.iloc[1, 2])"
      ],
      "metadata": {
        "colab": {
          "base_uri": "https://localhost:8080/"
        },
        "id": "WHPQQtfdzGbM",
        "outputId": "edbe4e8b-f296-4c34-a384-0fcfd6bf3317"
      },
      "execution_count": 7,
      "outputs": [
        {
          "output_type": "stream",
          "name": "stdout",
          "text": [
            "-1.0\n"
          ]
        }
      ]
    },
    {
      "cell_type": "code",
      "source": [
        "def bhaskara():\n",
        "  pasta['x1'] = ((pasta.iloc[0, 1]) * -1) "
      ],
      "metadata": {
        "id": "ctk8ynQ3zVlz"
      },
      "execution_count": null,
      "outputs": []
    }
  ]
}